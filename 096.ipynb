{
 "metadata": {
  "name": "096"
 },
 "nbformat": 3,
 "nbformat_minor": 0,
 "worksheets": [
  {
   "cells": [
    {
     "cell_type": "code",
     "collapsed": false,
     "input": [
      "# Problem 096 project Euler solution in notebook format!! s"
     ],
     "language": "python",
     "metadata": {},
     "outputs": []
    },
    {
     "cell_type": "code",
     "collapsed": false,
     "input": [
      "from numpy import *"
     ],
     "language": "python",
     "metadata": {},
     "outputs": [],
     "prompt_number": 6
    },
    {
     "cell_type": "code",
     "collapsed": false,
     "input": [
      "tstarr = array([[0,0,3,0,2,0,6,0,0],[9,0,0,3,0,5,0,0,1],[0,0,1,8,0,6,4,0,0],\n",
      "                [0,0,8,1,0,2,9,0,0],[7,0,0,0,0,0,0,0,8],[0,0,6,7,0,8,2,0,0],\n",
      "                [0,0,2,6,0,9,5,0,0],[8,0,0,2,0,3,0,0,9],[0,0,5,0,1,0,3,0,0]])"
     ],
     "language": "python",
     "metadata": {},
     "outputs": [],
     "prompt_number": 7
    },
    {
     "cell_type": "code",
     "collapsed": false,
     "input": [
      "print(tstarr)\n",
      "print list(xrange(3,6))"
     ],
     "language": "python",
     "metadata": {},
     "outputs": [
      {
       "output_type": "stream",
       "stream": "stdout",
       "text": [
        "[[0 0 3 0 2 0 6 0 0]\n",
        " [9 0 0 3 0 5 0 0 1]\n",
        " [0 0 1 8 0 6 4 0 0]\n",
        " [0 0 8 1 0 2 9 0 0]\n",
        " [7 0 0 0 0 0 0 0 8]\n",
        " [0 0 6 7 0 8 2 0 0]\n",
        " [0 0 2 6 0 9 5 0 0]\n",
        " [8 0 0 2 0 3 0 0 9]\n",
        " [0 0 5 0 1 0 3 0 0]]\n",
        "[3, 4, 5]\n"
       ]
      }
     ],
     "prompt_number": 48
    },
    {
     "cell_type": "code",
     "collapsed": false,
     "input": [
      "# lets make a function that takes as input a index tuple and returns the 3 by 3 block\n",
      "ind = (4,1)\n",
      "\n",
      "if (ind[0] in range(0,3)) and (ind[1] in range(0,3)):\n",
      "    rtnarr = tstarr[0:3].T[0:3].T\n",
      "elif (ind[0] in range(4,7)) and (ind[1] in range(0,3)):\n",
      "    rtnarr :7].T[0:3].T    \n",
      "elif (ind[0] in range(8,11)) and (ind[1] in range(0,3)):\n",
      "    rtnarr = tstarr[8:].T[8:].T\n",
      "else: \n",
      "    rtnarr = 0\n",
      "\n",
      "\n",
      "print rtnarr\n",
      "\n"
     ],
     "language": "python",
     "metadata": {},
     "outputs": [
      {
       "output_type": "stream",
       "stream": "stdout",
       "text": [
        "[[7 0 0]\n",
        " [0 0 6]\n",
        " [0 0 2]]\n"
       ]
      }
     ],
     "prompt_number": 34
    },
    {
     "cell_type": "code",
     "collapsed": false,
     "input": [
      "tmparr = tstarr"
     ],
     "language": "python",
     "metadata": {},
     "outputs": [],
     "prompt_number": 35
    },
    {
     "cell_type": "code",
     "collapsed": false,
     "input": [
      "rzro = array([sum(tmparr[i][:]==0) for i in range(0,9)])\n",
      "czro = array([sum(tmparr.T[i][:]==0) for i in range(0,9)])"
     ],
     "language": "python",
     "metadata": {},
     "outputs": [],
     "prompt_number": 36
    },
    {
     "cell_type": "code",
     "collapsed": false,
     "input": [
      "mnvl = min(concatenate((rzro,czro)))\n",
      "ind1 = where(rzro == mnvl)\n",
      "ind2 = where(czro == mnvl)"
     ],
     "language": "python",
     "metadata": {},
     "outputs": [],
     "prompt_number": 37
    },
    {
     "cell_type": "code",
     "collapsed": false,
     "input": [
      "ind2"
     ],
     "language": "python",
     "metadata": {},
     "outputs": [
      {
       "output_type": "pyout",
       "prompt_number": 38,
       "text": [
        "(array([2, 3, 5, 6]),)"
       ]
      }
     ],
     "prompt_number": 38
    },
    {
     "cell_type": "code",
     "collapsed": false,
     "input": [
      "# extract nonzero numbers, and generate candidate zero set. \n",
      "\n",
      "# go through zeros 1 by 1 by checking corresponding row and box\n",
      "# to see if we can eliminate everything\n",
      "\n",
      "# if we can replace, go to the beginning, if not, go to next greatest column\n",
      "# keep repeating"
     ],
     "language": "python",
     "metadata": {},
     "outputs": []
    }
   ],
   "metadata": {}
  }
 ]
}